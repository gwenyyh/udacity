{
 "cells": [
  {
   "cell_type": "markdown",
   "metadata": {},
   "source": [
    "# Sparkify Project\n",
    "\n",
    "Thanks to its sheer capabilities of handling big data and very distinctive features e.g its way of using memory, Spark has been one of the top tools data scientists, data engineers or analysts work with in machine learning. This notebook will demonstrate how to use Pyspark, which is an interface for Spark in Python, to manipulate big dataset and develop machine learning algorithms in \"local\" mode with a use case in churn prediction.\n",
    "### Project Overview\n",
    "Churn prediction is a common problem that many customer-facing companines encounter. It provides information which customers are at risk of churn and makes it possible to take measures to prevent terminations effectively with a \"good\" model.\n",
    "\n",
    "The dataset we will work on in this notebook is `mini_sparkify_event_data.json` from Udacity workspace, a subset of a full 12G dataset. It contains event data of a customer visit for a music streaming company.\n",
    "### Problem Statement\n",
    "There are two aspects: \n",
    "- it is expensive to acquire new customers for a company than to retain existing customers. This led us to find solutions to identify customers who are at risk of churn and therefore take necessary measures before the churn happens. How do we identify such customers?\n",
    "\n",
    "- we have huge amount of datasets available to help develop such solutions. It requires high computational resources and can be very expensive or inefficient with the old fashioned way of computing. How do we handle big data with a higher speed?\n",
    "\n",
    "This notebook will cover these two questions and demonstrate how to use Pyspark to solve churn prediction problem.\n",
    "\n",
    "### Metrics\n",
    "A common issue with churn predictions is imbalanced dataset, i.e we usually have way less customers for churn than restained customers.So it is important that we select the right metrics to evaluate the performance of the model. We will choose the following metrics for this reason:\n",
    "\n",
    "- precision\n",
    "- recall\n",
    "- f1 score\n",
    "- AUC\n",
    "- accuracy\n",
    "\n",
    "with more focus on the first 4 metrics especially AUC, as well as an overlook on the accuracy."
   ]
  },
  {
   "cell_type": "markdown",
   "metadata": {},
   "source": [
    "Let's start!"
   ]
  },
  {
   "cell_type": "code",
   "execution_count": 1,
   "metadata": {},
   "outputs": [],
   "source": [
    "# import libraries\n",
    "import datetime\n",
    "from functools import reduce\n",
    "import math\n",
    "import matplotlib.pyplot as plt\n",
    "import numpy as np\n",
    "\n",
    "import pyspark\n",
    "from pyspark.sql import SparkSession, DataFrame\n",
    "from pyspark.sql.functions import (\n",
    "    isnan, \n",
    "    when, \n",
    "    count, \n",
    "    countDistinct, \n",
    "    avg, \n",
    "    col, \n",
    "    desc, \n",
    "    lit, \n",
    "    max, \n",
    "    split, \n",
    "    udf\n",
    ")\n",
    "from pyspark.sql.types import IntegerType\n",
    "from pyspark.sql.window import Window\n",
    "\n",
    "from pyspark.ml import Pipeline\n",
    "from pyspark.ml.classification import (\n",
    "    LogisticRegression, \n",
    "    GBTClassifier, \n",
    "    DecisionTreeClassifier, \n",
    "    NaiveBayes\n",
    ")\n",
    "from pyspark.ml.evaluation import (\n",
    "    BinaryClassificationEvaluator, \n",
    "    MulticlassClassificationEvaluator\n",
    ")\n",
    "from pyspark.ml.feature import (\n",
    "    StandardScaler, \n",
    "    VectorAssembler, \n",
    "    UnivariateFeatureSelector\n",
    ")\n",
    "from pyspark.ml.tuning import (\n",
    "    CrossValidator, \n",
    "    ParamGridBuilder, \n",
    "    CrossValidatorModel\n",
    ")\n",
    "from pyspark.mllib.evaluation import MulticlassMetrics\n",
    "from pyspark_dist_explore import hist\n",
    "\n",
    "import re\n",
    "import seaborn as sns\n"
   ]
  },
  {
   "cell_type": "code",
   "execution_count": 2,
   "metadata": {},
   "outputs": [],
   "source": [
    "# create a Spark session and read dataset\n",
    "spark = SparkSession.builder.master(\"local\")\\\n",
    "    .appName(\"Capstone\").getOrCreate()\n",
    "df = spark.read.json(\"data/mini_sparkify_event_data1.json\")\\\n",
    "    .union(\"data/mini_sparkify_event_data2.json\")"
   ]
  },
  {
   "cell_type": "markdown",
   "metadata": {},
   "source": [
    "## Analysis"
   ]
  },
  {
   "cell_type": "markdown",
   "metadata": {},
   "source": [
    "### Overview on the dataset"
   ]
  },
  {
   "cell_type": "code",
   "execution_count": 3,
   "metadata": {},
   "outputs": [
    {
     "name": "stdout",
     "output_type": "stream",
     "text": [
      "root\n",
      " |-- artist: string (nullable = true)\n",
      " |-- auth: string (nullable = true)\n",
      " |-- firstName: string (nullable = true)\n",
      " |-- gender: string (nullable = true)\n",
      " |-- itemInSession: long (nullable = true)\n",
      " |-- lastName: string (nullable = true)\n",
      " |-- length: double (nullable = true)\n",
      " |-- level: string (nullable = true)\n",
      " |-- location: string (nullable = true)\n",
      " |-- method: string (nullable = true)\n",
      " |-- page: string (nullable = true)\n",
      " |-- registration: long (nullable = true)\n",
      " |-- sessionId: long (nullable = true)\n",
      " |-- song: string (nullable = true)\n",
      " |-- status: long (nullable = true)\n",
      " |-- ts: long (nullable = true)\n",
      " |-- userAgent: string (nullable = true)\n",
      " |-- userId: string (nullable = true)\n",
      "\n"
     ]
    }
   ],
   "source": [
    "# columns we have\n",
    "df.printSchema()"
   ]
  },
  {
   "cell_type": "code",
   "execution_count": 4,
   "metadata": {},
   "outputs": [
    {
     "data": {
      "text/plain": [
       "286500"
      ]
     },
     "execution_count": 4,
     "metadata": {},
     "output_type": "execute_result"
    }
   ],
   "source": [
    "# number of rows\n",
    "df.count()"
   ]
  },
  {
   "cell_type": "code",
   "execution_count": 5,
   "metadata": {},
   "outputs": [
    {
     "name": "stdout",
     "output_type": "stream",
     "text": [
      "+------+----+---------+------+-------------+--------+------+-----+--------+------+----+------------+---------+-----+------+---+---------+------+\n",
      "|artist|auth|firstName|gender|itemInSession|lastName|length|level|location|method|page|registration|sessionId| song|status| ts|userAgent|userId|\n",
      "+------+----+---------+------+-------------+--------+------+-----+--------+------+----+------------+---------+-----+------+---+---------+------+\n",
      "| 58392|   0|     8346|  8346|            0|    8346| 58392|    0|    8346|     0|   0|        8346|        0|58392|     0|  0|     8346|     0|\n",
      "+------+----+---------+------+-------------+--------+------+-----+--------+------+----+------------+---------+-----+------+---+---------+------+\n",
      "\n"
     ]
    }
   ],
   "source": [
    "# check null values of each column\n",
    "df.select([\n",
    "    count(when(isnan(c) | col(c).isNull(), c)).alias(c) for c in df.columns\n",
    "]).show()"
   ]
  },
  {
   "cell_type": "code",
   "execution_count": 6,
   "metadata": {},
   "outputs": [
    {
     "name": "stdout",
     "output_type": "stream",
     "text": [
      "+------+----+---------+------+-------------+--------+------+-----+--------+------+----+------------+---------+----+------+---+---------+------+\n",
      "|artist|auth|firstName|gender|itemInSession|lastName|length|level|location|method|page|registration|sessionId|song|status| ts|userAgent|userId|\n",
      "+------+----+---------+------+-------------+--------+------+-----+--------+------+----+------------+---------+----+------+---+---------+------+\n",
      "|     0|   0|        0|     0|            0|       0|     0|    0|       0|     0|   0|           0|        0|   0|     0|  0|        0|  8346|\n",
      "+------+----+---------+------+-------------+--------+------+-----+--------+------+----+------------+---------+----+------+---+---------+------+\n",
      "\n"
     ]
    }
   ],
   "source": [
    "# check empty string columns\n",
    "df.select(\n",
    "    [count(when(col(c)==\"\", c)).alias(c) for c in df.columns]\n",
    ").show()"
   ]
  },
  {
   "cell_type": "code",
   "execution_count": 7,
   "metadata": {},
   "outputs": [],
   "source": [
    "# remove records with empty userid\n",
    "df = df.filter(df.userId!=\"\")"
   ]
  },
  {
   "cell_type": "markdown",
   "metadata": {},
   "source": [
    "The `page` column looks the most interesting one. So let's have a look at the values for this column."
   ]
  },
  {
   "cell_type": "code",
   "execution_count": 8,
   "metadata": {},
   "outputs": [
    {
     "name": "stdout",
     "output_type": "stream",
     "text": [
      "+--------------------+\n",
      "|                page|\n",
      "+--------------------+\n",
      "|              Cancel|\n",
      "|    Submit Downgrade|\n",
      "|         Thumbs Down|\n",
      "|                Home|\n",
      "|           Downgrade|\n",
      "|         Roll Advert|\n",
      "|              Logout|\n",
      "|       Save Settings|\n",
      "|Cancellation Conf...|\n",
      "|               About|\n",
      "|            Settings|\n",
      "|     Add to Playlist|\n",
      "|          Add Friend|\n",
      "|            NextSong|\n",
      "|           Thumbs Up|\n",
      "|                Help|\n",
      "|             Upgrade|\n",
      "|               Error|\n",
      "|      Submit Upgrade|\n",
      "+--------------------+\n",
      "\n"
     ]
    }
   ],
   "source": [
    "df.select(\"page\").dropDuplicates().show()"
   ]
  },
  {
   "cell_type": "markdown",
   "metadata": {},
   "source": [
    "Some pages can be more related to the churn of a user, we will dig into this in the data exploration section.\n",
    "\n",
    "What is the `level` column about?"
   ]
  },
  {
   "cell_type": "code",
   "execution_count": 9,
   "metadata": {},
   "outputs": [
    {
     "name": "stdout",
     "output_type": "stream",
     "text": [
      "+-----+\n",
      "|level|\n",
      "+-----+\n",
      "| free|\n",
      "| paid|\n",
      "+-----+\n",
      "\n"
     ]
    }
   ],
   "source": [
    "df.select(\"level\").dropDuplicates().show()"
   ]
  },
  {
   "cell_type": "markdown",
   "metadata": {},
   "source": [
    "This one can potentially also be interesting, e.g by looking at the number of days a user is `free` or `paid`.\n",
    "\n",
    "There are also a number of other columns which I couldn't find much info with."
   ]
  },
  {
   "cell_type": "code",
   "execution_count": 10,
   "metadata": {},
   "outputs": [
    {
     "data": {
      "text/plain": [
       "[Row(userAgent='\"Mozilla/5.0 (Macintosh; Intel Mac OS X 10_8_5) AppleWebKit/537.36 (KHTML, like Gecko) Chrome/36.0.1985.143 Safari/537.36\"'),\n",
       " Row(userAgent='\"Mozilla/5.0 (Windows NT 5.1) AppleWebKit/537.36 (KHTML, like Gecko) Chrome/36.0.1985.143 Safari/537.36\"'),\n",
       " Row(userAgent='Mozilla/5.0 (X11; Ubuntu; Linux i686; rv:31.0) Gecko/20100101 Firefox/31.0')]"
      ]
     },
     "execution_count": 10,
     "metadata": {},
     "output_type": "execute_result"
    }
   ],
   "source": [
    "df.select(\"userAgent\").dropDuplicates().head(3)"
   ]
  },
  {
   "cell_type": "code",
   "execution_count": 11,
   "metadata": {},
   "outputs": [
    {
     "data": {
      "text/plain": [
       "[Row(registration=1529027541000),\n",
       " Row(registration=1533192032000),\n",
       " Row(registration=1537779419000)]"
      ]
     },
     "execution_count": 11,
     "metadata": {},
     "output_type": "execute_result"
    }
   ],
   "source": [
    "df.select(\"registration\").dropDuplicates().head(3)"
   ]
  },
  {
   "cell_type": "code",
   "execution_count": 12,
   "metadata": {},
   "outputs": [
    {
     "name": "stdout",
     "output_type": "stream",
     "text": [
      "+------+\n",
      "|status|\n",
      "+------+\n",
      "|   307|\n",
      "|   404|\n",
      "|   200|\n",
      "+------+\n",
      "\n"
     ]
    }
   ],
   "source": [
    "df.select(\"status\").dropDuplicates().show()"
   ]
  },
  {
   "cell_type": "code",
   "execution_count": 13,
   "metadata": {},
   "outputs": [
    {
     "name": "stdout",
     "output_type": "stream",
     "text": [
      "+---------+\n",
      "|     auth|\n",
      "+---------+\n",
      "|Cancelled|\n",
      "|Logged In|\n",
      "+---------+\n",
      "\n"
     ]
    }
   ],
   "source": [
    "df.select(\"auth\").dropDuplicates().show()"
   ]
  },
  {
   "cell_type": "markdown",
   "metadata": {},
   "source": [
    "### Define Churn\n",
    "From the above discovery of the columns, the best way to define churn would be using the `page` column. If it is `Submit Downgrade` or `Cancellation Confirmation`, then we call it a churn."
   ]
  },
  {
   "cell_type": "code",
   "execution_count": 14,
   "metadata": {},
   "outputs": [],
   "source": [
    "function = udf(\n",
    "    lambda x: 1 if (x==\"Submit Downgrade\") | \\\n",
    "        (x==\"Cancellation Confirmation\") else 0, \n",
    "    IntegerType()\n",
    ")\n",
    "df = df.withColumn(\"churn\", function(col(\"page\")))"
   ]
  },
  {
   "cell_type": "markdown",
   "metadata": {},
   "source": [
    "Note that the churn should be defined on a user level. For one userId, the max value of the churn column `max(churn)` defines whether the user has churned or not. "
   ]
  },
  {
   "cell_type": "markdown",
   "metadata": {},
   "source": [
    "### Data Exploration\n",
    "\n",
    "Let's first look at how many users we got and the churn rate. "
   ]
  },
  {
   "cell_type": "code",
   "execution_count": 15,
   "metadata": {},
   "outputs": [
    {
     "data": {
      "text/plain": [
       "225"
      ]
     },
     "execution_count": 15,
     "metadata": {},
     "output_type": "execute_result"
    }
   ],
   "source": [
    "# number of users\n",
    "df.select(\"userId\").dropDuplicates().count()"
   ]
  },
  {
   "cell_type": "code",
   "execution_count": 16,
   "metadata": {},
   "outputs": [
    {
     "data": {
      "image/png": "[encoded data removed]",
      "text/plain": [
       "<Figure size 432x288 with 1 Axes>"
      ]
     },
     "metadata": {},
     "output_type": "display_data"
    }
   ],
   "source": [
    "# churn plot\n",
    "ax = df.select([\"userId\", \"churn\"]).dropDuplicates()\\\n",
    "    .groupBy(\"userId\").agg(max(\"churn\").alias(\"churn\"))\\\n",
    "    .groupBy(\"churn\").count()\\\n",
    "    .toPandas()\\\n",
    "    .set_index(\"churn\")\\\n",
    "    .plot(\n",
    "        kind='pie', y='count', autopct='%1.0f%%', \n",
    "        explode=[0.05, 0.05], legend=True, \n",
    "        title='Churn Users 1 vs No Churn Users 0', ylabel='', \n",
    "        shadow=True, labeldistance=None\n",
    "    )\n",
    "\n",
    "ax.legend(bbox_to_anchor=(1, 1.02), loc='upper left')\n",
    "plt.show()"
   ]
  },
  {
   "cell_type": "markdown",
   "metadata": {},
   "source": [
    "We have an overall churn rate of about 41%. It seems the data is rather balanced with slightly more retained users. However this is not the training data used to fit the model. So to know whether we have imbalanced data or not we need to see the post-process training data."
   ]
  },
  {
   "cell_type": "markdown",
   "metadata": {},
   "source": [
    "\n",
    "Now as we see the timestamp column `ts`, what is the time span of the data we have?"
   ]
  },
  {
   "cell_type": "code",
   "execution_count": 17,
   "metadata": {},
   "outputs": [
    {
     "name": "stdout",
     "output_type": "stream",
     "text": [
      "+-------+----------+\n",
      "|summary|      date|\n",
      "+-------+----------+\n",
      "|    min|2018-10-01|\n",
      "|    max|2018-12-03|\n",
      "+-------+----------+\n",
      "\n"
     ]
    }
   ],
   "source": [
    "get_date = udf(lambda x: \\\n",
    "    datetime.datetime.fromtimestamp(x / 1000.0).strftime(\"%Y-%m-%d\")\n",
    ")\n",
    "df = df.withColumn(\"date\", get_date(df.ts))\n",
    "df.describe(\"date\").filter(\"summary='min' or summary='max'\").show()"
   ]
  },
  {
   "cell_type": "markdown",
   "metadata": {},
   "source": [
    "Let's have a look at the stats for the number of daily users."
   ]
  },
  {
   "cell_type": "code",
   "execution_count": 18,
   "metadata": {},
   "outputs": [
    {
     "name": "stdout",
     "output_type": "stream",
     "text": [
      "+-------+------------------+\n",
      "|summary|       daily users|\n",
      "+-------+------------------+\n",
      "|  count|                63|\n",
      "|   mean| 50.34920634920635|\n",
      "| stddev|15.024881224541241|\n",
      "|    min|                 1|\n",
      "|    max|                72|\n",
      "+-------+------------------+\n",
      "\n"
     ]
    }
   ],
   "source": [
    "df.select([\"userId\", \"date\"]).dropDuplicates()\\\n",
    "    .groupBy(\"date\").agg(countDistinct(\"userId\")\\\n",
    "    .alias(\"daily users\"))\\\n",
    "    .describe(\"daily users\").show()"
   ]
  },
  {
   "cell_type": "markdown",
   "metadata": {},
   "source": [
    "How does the distribution of number of songs users listen to look like?"
   ]
  },
  {
   "cell_type": "code",
   "execution_count": 19,
   "metadata": {},
   "outputs": [
    {
     "name": "stdout",
     "output_type": "stream",
     "text": [
      "+-------+------------------+\n",
      "|summary|             count|\n",
      "+-------+------------------+\n",
      "|  count|               225|\n",
      "|   mean|1013.8133333333334|\n",
      "| stddev|1104.9607785540882|\n",
      "|    min|                 3|\n",
      "|    max|              8002|\n",
      "+-------+------------------+\n",
      "\n"
     ]
    }
   ],
   "source": [
    "df.filter(df.page==\"NextSong\").groupBy(\"userId\")\\\n",
    "    .count().describe(\"count\").show()"
   ]
  },
  {
   "cell_type": "code",
   "execution_count": 20,
   "metadata": {},
   "outputs": [
    {
     "data": {
      "text/plain": [
       "Text(0.5, 0, 'Number of Songs')"
      ]
     },
     "execution_count": 20,
     "metadata": {},
     "output_type": "execute_result"
    },
    {
     "data": {
      "image/png": "[encoded data removed]",
      "text/plain": [
       "<Figure size 432x288 with 1 Axes>"
      ]
     },
     "metadata": {
      "needs_background": "light"
     },
     "output_type": "display_data"
    }
   ],
   "source": [
    "# plot \n",
    "fig, ax = plt.subplots()\n",
    "hist(\n",
    "    ax, \n",
    "    df.filter(df.page==\"NextSong\")\\\n",
    "        .groupBy(\"userId\").count().select('count'), \n",
    "    bins = 50\n",
    ")\n",
    "ax.set_title(\"Distribution of Number of Songs Users Listen to\")\n",
    "ax.set_ylabel(\"Count\")\n",
    "ax.set_xlabel(\"Number of Songs\")"
   ]
  },
  {
   "cell_type": "markdown",
   "metadata": {},
   "source": [
    "It looks like we get some outliers, e.g the user who listened to 8002 songs. The outliers will be handled in the data preprocessing section."
   ]
  },
  {
   "cell_type": "markdown",
   "metadata": {},
   "source": [
    "In the `page` column, not only `NextSong` is interesting, many other values like `Downgrade`, `Thumbs Down`, `Add To Playlist` etc. So let's have a look at the distributions of all these pages."
   ]
  },
  {
   "cell_type": "code",
   "execution_count": 21,
   "metadata": {},
   "outputs": [
    {
     "name": "stdout",
     "output_type": "stream",
     "text": [
      "+-------+---------+---------+--------------+-----------+---------+----------+---------------+-----------+\n",
      "|summary|Downgrade|  Upgrade|Submit Upgrade|Thumbs Down|Thumbs Up|Add Friend|Add to Playlist|Roll Advert|\n",
      "+-------+---------+---------+--------------+-----------+---------+----------+---------------+-----------+\n",
      "|  count|    225.0|    225.0|         225.0|      225.0|    225.0|     225.0|          225.0|      225.0|\n",
      "|   mean| 9.133333|2.2177777|    0.70666665|  11.315556|55.782223| 19.008888|      29.004444|      17.48|\n",
      "| stddev|11.734412| 2.558537|    0.73387426|  13.077481| 65.47793| 20.581717|      32.716656|  21.550207|\n",
      "|    min|      0.0|      0.0|           0.0|        0.0|      0.0|       0.0|            0.0|        0.0|\n",
      "|    max|     73.0|     15.0|           4.0|       75.0|    437.0|     143.0|          240.0|      128.0|\n",
      "+-------+---------+---------+--------------+-----------+---------+----------+---------------+-----------+\n",
      "\n"
     ]
    }
   ],
   "source": [
    "page_df = df.groupBy([\"userId\", \"page\"]).count()\\\n",
    "    .groupBy(\"userId\").pivot(\"page\").sum(\"count\")\\\n",
    "    .na.fill(0).describe()\\\n",
    "    .select([\n",
    "        \"summary\",\n",
    "        \"Downgrade\", \n",
    "        \"Upgrade\",\n",
    "        \"Submit Upgrade\", \n",
    "        \"Thumbs Down\", \n",
    "        \"Thumbs Up\",\n",
    "        \"Add Friend\",\n",
    "        \"Add to Playlist\",\n",
    "        \"Roll Advert\"\n",
    "    ])\n",
    "page_df.select([\n",
    "    \"summary\", \n",
    "    *(col(c).cast(\"float\").alias(c) for c in page_df.columns[1:])\n",
    "]).show()"
   ]
  },
  {
   "cell_type": "markdown",
   "metadata": {},
   "source": [
    "We can see very high variance for Thumbs Up and Add to Playlist. We will do outlier detection for these columns in the data preprocessing section. Please note that we can do this for more columns but due to the high computational cost let's take just these two columns."
   ]
  },
  {
   "cell_type": "markdown",
   "metadata": {},
   "source": [
    "But how these page views relate to the churn of users? Remember that the overall churn rate is at about 41%."
   ]
  },
  {
   "cell_type": "code",
   "execution_count": 22,
   "metadata": {},
   "outputs": [],
   "source": [
    "# create df for the plots\n",
    "churn_df = df.select([\"userId\", \"churn\"]).dropDuplicates()\\\n",
    "    .groupBy(\"userId\").agg(max(\"churn\").alias(\"churn\"))\n",
    "\n",
    "plot_df = df.groupBy([\"userId\", \"page\"]).count()\\\n",
    "    .groupBy(\"userId\").pivot(\"page\").sum(\"count\")\\\n",
    "    .na.fill(0).join(churn_df, on=\"userId\")\\\n",
    "    .select([\n",
    "        \"churn\",\n",
    "        \"NextSong\",\n",
    "        \"Downgrade\", \n",
    "        \"Upgrade\",\n",
    "        \"Thumbs Down\", \n",
    "        \"Thumbs Up\",\n",
    "        \"Submit Upgrade\", \n",
    "        \"Add Friend\",\n",
    "        \"Add to Playlist\",\n",
    "        \"Roll Advert\"\n",
    "    ])\\\n",
    "    .groupBy(\"churn\").avg().toPandas().T\\\n",
    "    .drop(\"avg(churn)\", axis=0)\\\n",
    "    .rename({\"0\": \"churn 0\", \"1\": \"churn 1\"})\n",
    "plot_df.columns = [\"churn 0\", \"churn 1\"]\n",
    "plot_df.index = [\n",
    "    x.replace(\"avg(\", \"\").replace(\")\", \"\") for x in plot_df.index\n",
    "]\n",
    "plot_df = plot_df.iloc[1:,:]\n",
    "plot_df[\"ratio\"] = round(\n",
    "    plot_df[\"churn 1\"]/(plot_df[\"churn 1\"] + plot_df[\"churn 0\"]), \n",
    "    2\n",
    ")"
   ]
  },
  {
   "cell_type": "code",
   "execution_count": 23,
   "metadata": {},
   "outputs": [
    {
     "data": {
      "image/png": "[encoded data removed]",
      "text/plain": [
       "<Figure size 1332x792 with 1 Axes>"
      ]
     },
     "metadata": {
      "needs_background": "light"
     },
     "output_type": "display_data"
    }
   ],
   "source": [
    "# plot \n",
    "labels = plot_df.index.to_list()\n",
    "\n",
    "x = np.arange(len(labels))  # the label locations\n",
    "width = 0.5  # the width of the bars\n",
    "\n",
    "fig, ax = plt.subplots()\n",
    "fig.set_size_inches(18.5, 11)\n",
    "rects1 = ax.bar(\n",
    "    x - width/2, plot_df[\"churn 0\"], width, label='churn 0'\n",
    ")\n",
    "rects2 = ax.bar(\n",
    "    x + width/2, plot_df[\"churn 1\"], width, label='churn 1'\n",
    ")\n",
    "\n",
    "# Add some text for labels, title and custom x-axis tick labels, etc.\n",
    "ax.set_ylabel('Average Page View')\n",
    "ax.set_title('Page Views by Churn')\n",
    "ax.legend()\n",
    "ax.set_xticks(x)\n",
    "ax.set_xticklabels(labels)\n",
    "\n",
    "plt.show()"
   ]
  },
  {
   "cell_type": "markdown",
   "metadata": {},
   "source": [
    "Let's now look at the `level` column. The average number of days of a user being `paid` and `free` is shown as below by churn:"
   ]
  },
  {
   "cell_type": "code",
   "execution_count": 24,
   "metadata": {},
   "outputs": [
    {
     "name": "stdout",
     "output_type": "stream",
     "text": [
      "+-----+-----------------+------------------+\n",
      "|churn|             free|              paid|\n",
      "+-----+-----------------+------------------+\n",
      "|    1|8.081395348837209|12.973684210526315|\n",
      "|    0|5.513761467889908|12.393258426966293|\n",
      "+-----+-----------------+------------------+\n",
      "\n"
     ]
    }
   ],
   "source": [
    "df.select([\"userId\", \"level\", \"date\"]).dropDuplicates()\\\n",
    "    .groupBy([\"userId\", \"level\"]).count()\\\n",
    "    .join(churn_df, on=\"userId\")\\\n",
    "    .groupBy([\"churn\", \"level\"]).agg(avg(\"count\").alias(\"avg_days\"))\\\n",
    "    .groupBy(\"churn\").pivot(\"level\").sum(\"avg_days\")\\\n",
    "    .show()"
   ]
  },
  {
   "cell_type": "markdown",
   "metadata": {},
   "source": [
    "It looks like for `level = paid` there's no big difference between the churn and non-churn groups. However the users who churned seem to have stayed more `free` days than who didn't churn."
   ]
  },
  {
   "cell_type": "markdown",
   "metadata": {},
   "source": [
    "Now what about gender and its relation to churn rate?"
   ]
  },
  {
   "cell_type": "code",
   "execution_count": 25,
   "metadata": {},
   "outputs": [
    {
     "name": "stdout",
     "output_type": "stream",
     "text": [
      "+------+-------------------+-----+\n",
      "|gender|         churn rate|count|\n",
      "+------+-------------------+-----+\n",
      "|     F|0.41346153846153844|  104|\n",
      "|     M| 0.4049586776859504|  121|\n",
      "+------+-------------------+-----+\n",
      "\n"
     ]
    }
   ],
   "source": [
    "# by gender\n",
    "df.select([\"userId\", \"gender\", \"churn\"]).dropDuplicates()\\\n",
    "    .groupBy(\"userId\", \"gender\").agg(\n",
    "        max(\"churn\").alias(\"churn\"))\\\n",
    "    .groupBy(\"gender\").agg(\n",
    "        avg(\"churn\").alias(\"churn rate\"), \n",
    "        count(\"churn\").alias(\"count\")\n",
    "    ).show()"
   ]
  },
  {
   "cell_type": "markdown",
   "metadata": {},
   "source": [
    "The two genders have similar churn rates of about 40% with female slightly higher by ~1%.\n",
    "\n",
    "Let's have a look at the top locations with most users. "
   ]
  },
  {
   "cell_type": "code",
   "execution_count": 26,
   "metadata": {},
   "outputs": [
    {
     "name": "stdout",
     "output_type": "stream",
     "text": [
      "+---------+-----+\n",
      "| location|count|\n",
      "+---------+-----+\n",
      "|       CA|   33|\n",
      "|       TX|   16|\n",
      "| NY-NJ-PA|   15|\n",
      "|       FL|   14|\n",
      "|       AZ|    7|\n",
      "|       CT|    7|\n",
      "| IL-IN-WI|    6|\n",
      "|    NC-SC|    6|\n",
      "|    MO-IL|    6|\n",
      "|       NC|    6|\n",
      "+---------+-----+\n",
      "only showing top 10 rows\n",
      "\n"
     ]
    }
   ],
   "source": [
    "# split the location to get the state code\n",
    "df = df.withColumn(\"location\", split(col(\"location\"), \",\").getItem(1))\n",
    "\n",
    "df.select([\"userId\", \"location\"]).dropDuplicates().na.fill(\"Null\")\\\n",
    "    .filter(df.location.isNotNull())\\\n",
    "    .groupBy(\"location\").count().sort(desc(\"count\")).show(10)"
   ]
  },
  {
   "cell_type": "code",
   "execution_count": 27,
   "metadata": {},
   "outputs": [
    {
     "name": "stdout",
     "output_type": "stream",
     "text": [
      "+------------+------------------+-----------+\n",
      "|    location|        churn_rate|total_users|\n",
      "+------------+------------------+-----------+\n",
      "|       KY-IN|               1.0|          1|\n",
      "|       IL-MO|               1.0|          1|\n",
      "|       TN-VA|               1.0|          1|\n",
      "|          UT|               1.0|          1|\n",
      "|          AR|               1.0|          1|\n",
      "|    TN-MS-AR|               1.0|          1|\n",
      "|          OR|               1.0|          1|\n",
      "| PA-NJ-DE-MD|               0.8|          5|\n",
      "|          AL|              0.75|          4|\n",
      "|          CO|              0.75|          4|\n",
      "|          KY|0.6666666666666666|          3|\n",
      "|          OH|0.6666666666666666|          3|\n",
      "|          MS|0.6666666666666666|          3|\n",
      "|       MA-NH|               0.6|          5|\n",
      "|          MI|               0.6|          5|\n",
      "|       MO-KS|               0.5|          2|\n",
      "| DC-VA-MD-WV|               0.5|          4|\n",
      "|       VA-NC|               0.5|          2|\n",
      "|       RI-MA|               0.5|          2|\n",
      "|       MO-IL|               0.5|          6|\n",
      "+------------+------------------+-----------+\n",
      "only showing top 20 rows\n",
      "\n"
     ]
    }
   ],
   "source": [
    "# create df for the scatter plots\n",
    "df.select([\"userId\", \"location\"]).dropDuplicates()\\\n",
    "    .join(churn_df, on=\"userId\")\\\n",
    "    .groupBy(\"location\").agg(\n",
    "        avg(\"churn\").alias(\"churn_rate\"), \n",
    "        count(\"churn\").alias(\"total_users\")\n",
    "    ).sort(desc(\"churn_rate\")).show()"
   ]
  },
  {
   "cell_type": "markdown",
   "metadata": {},
   "source": [
    "It is very hard to say if location plays a role here because of the little data we have for many locations. We will leave it out in the modeling."
   ]
  },
  {
   "cell_type": "markdown",
   "metadata": {},
   "source": [
    "## Methodology\n",
    "\n",
    "### Features\n",
    "Usually for churn prediction, we would want to look at customer demographic data, customer account info, product data etc. Here we have very little data (225 users), to avoid overfitting let's select just a few features to be evaluated on in the modeling section with some feature selection techniques.\n",
    "\n",
    "From the previous data exploration, let's collect the following of a user as features.\n",
    "\n",
    "Number of page visits: \n",
    "\n",
    "- NextSong \n",
    "- Downgrade \n",
    "- Upgrade \n",
    "- Thumbs Down \n",
    "- Thumbs Up \n",
    "- Submit Upgrade \n",
    "- Add Friend \n",
    "- Add to Playlist\n",
    "- Roll Advert\n",
    "\n",
    "And:\n",
    "- gender\n",
    "- number of days as `level = paid`\n",
    "- number of days as `level = free`\n"
   ]
  },
  {
   "cell_type": "code",
   "execution_count": 28,
   "metadata": {},
   "outputs": [],
   "source": [
    "feature_cols = [\n",
    "    \"gender\",\n",
    "    \"NextSong\",\n",
    "    \"Downgrade\",\n",
    "    \"Upgrade\",\n",
    "    \"Thumbs Down\",\n",
    "    \"Thumbs Up\",\n",
    "    \"Submit Upgrade\",\n",
    "    \"Add Friend\",\n",
    "    \"Add to Playlist\",\n",
    "    \"Roll Advert\",\n",
    "    \"free\",\n",
    "    \"paid\"\n",
    "]"
   ]
  },
  {
   "cell_type": "markdown",
   "metadata": {},
   "source": [
    "### Data Preprocessing\n",
    "#### Data Manipulation\n",
    "When we make churn prediction, we want to predict for the future the churn of users who haven't churned so far. So it is time sensitive. We have data of about 2 months, let's use a time window of 6 weeks with first 4 weeks for the input features and last 2 weeks for the target. This way we will get 2 batches and combine them."
   ]
  },
  {
   "cell_type": "code",
   "execution_count": 29,
   "metadata": {},
   "outputs": [],
   "source": [
    "# define function for preprocessing data\n",
    "def process_data(df):\n",
    "    '''preprocesses raw data into training data\n",
    "    input:\n",
    "        df - pyspark dataframe to process\n",
    "    return:\n",
    "        data - dataframe with input features and label\n",
    "    '''\n",
    "    min_date = datetime.datetime.strptime(\n",
    "        df.agg({\"date\": \"min\"}).collect()[0][\"min(date)\"],\n",
    "        \"%Y-%m-%d\")\n",
    "    max_date = datetime.datetime.strptime(\n",
    "        df.agg({\"date\": \"max\"}).collect()[0][\"max(date)\"],\n",
    "        \"%Y-%m-%d\")\n",
    "    # how many batches of training data we have for y\n",
    "    # (total days - first 4 weeks) / 14 days(one batch)\n",
    "    n_batch = math.floor(((max_date - min_date).days - 4*7)/14)\n",
    "    # use list to combine all results\n",
    "    data_list = []\n",
    "    \n",
    "    for i in range(n_batch):\n",
    "        date_1 = min_date + datetime.timedelta(days=i*14) # start for X\n",
    "        date_2 = date_1 + datetime.timedelta(days=4*7) # end for X and start for y\n",
    "        date_3 = date_2 + datetime.timedelta(days=14) # end for y\n",
    "\n",
    "        users_churned = df.filter(\n",
    "            (df.date>=date_1) & (df.date<date_2) & (df.churn==1))\\\n",
    "            .select(\"userId\").dropDuplicates()\\\n",
    "            .rdd.flatMap(lambda x: x).collect()\n",
    "\n",
    "        df_tmp = df.filter(\n",
    "            (df.date>=date_1) & (df.date<date_2) & \\\n",
    "            (~df.userId.isin(users_churned)))\n",
    "\n",
    "        X_page = df_tmp.groupBy([\"userId\", \"gender\", \"page\"]).count()\\\n",
    "            .groupBy([\"userId\", \"gender\"]).pivot(\"page\").sum(\"count\")\\\n",
    "            .na.fill(0).select([\n",
    "                \"userId\",\n",
    "                \"gender\",\n",
    "                \"NextSong\",\n",
    "                \"Downgrade\",\n",
    "                \"Upgrade\",\n",
    "                \"Thumbs Down\",\n",
    "                \"Thumbs Up\",\n",
    "                \"Submit Upgrade\",\n",
    "                \"Add Friend\",\n",
    "                \"Add to Playlist\",\n",
    "                \"Roll Advert\"\n",
    "            ]).withColumn(\n",
    "                \"gender\", when(col(\"gender\")=='F', 1\n",
    "            ).otherwise(0))\n",
    "\n",
    "        X_level = df_tmp.select(\n",
    "            [\"userId\", \"level\", \"date\"]).dropDuplicates()\\\n",
    "            .groupBy([\"userId\", \"level\"]).count()\\\n",
    "            .groupBy(\"userId\").pivot(\"level\").sum(\"count\")\\\n",
    "            .na.fill(0)\n",
    "\n",
    "        combined = df.filter(\n",
    "            ((df.date>=date_2) & (df.date<date_3)) & (df.churn==1))\\\n",
    "            .select(\"userId\").dropDuplicates()\\\n",
    "            .withColumn(\"churn\", lit(1))\\\n",
    "            .join(X_page, on=\"userId\", how=\"outer\")\\\n",
    "            .na.fill(0, subset=[\"churn\"])\\\n",
    "            .join(X_level, on=\"userId\")\\\n",
    "            .drop(\"userId\")\n",
    "\n",
    "        data_list.append(combined)\n",
    "\n",
    "    # union all data for each time window\n",
    "    data = reduce(DataFrame.union, data_list)\\\n",
    "        .withColumnRenamed(\"churn\", \"label\")\n",
    "\n",
    "    return data"
   ]
  },
  {
   "cell_type": "code",
   "execution_count": 30,
   "metadata": {},
   "outputs": [],
   "source": [
    "data = process_data(df)"
   ]
  },
  {
   "cell_type": "markdown",
   "metadata": {},
   "source": [
    "#### Outliers\n",
    "\n",
    "As mentioned earlier, there might be outliers in our dataset. Let's detect and remove them to make the training set more representative of the population."
   ]
  },
  {
   "cell_type": "code",
   "execution_count": 31,
   "metadata": {},
   "outputs": [],
   "source": [
    "# remove outliers for train\n",
    "# find the lower and upper bounds for each column\n",
    "bounds = {\n",
    "    c: dict(\n",
    "        zip([\"q1\", \"q3\"], data.approxQuantile(c, [0.25, 0.75], 0))\n",
    "    )\n",
    "    for c in [\"NextSong\", \"Thumbs Up\", \"Add to Playlist\"]\n",
    "}\n",
    "\n",
    "for c in bounds:\n",
    "    iqr = bounds[c]['q3'] - bounds[c]['q1']\n",
    "    bounds[c]['lower'] = bounds[c]['q1'] - (iqr * 1.5)\n",
    "    bounds[c]['upper'] = bounds[c]['q3'] + (iqr * 1.5)\n",
    "\n",
    "# remove rows with outliers\n",
    "data = data.filter(\n",
    "    (col(\"NextSong\").between(\n",
    "        bounds[\"NextSong\"]['lower'], \n",
    "        bounds[\"NextSong\"]['upper'])\n",
    "    ) &\n",
    "    (col(\"Thumbs Up\").between(\n",
    "        bounds[\"Thumbs Up\"]['lower'], \n",
    "        bounds[\"Thumbs Up\"]['upper'])\n",
    "    ) &\n",
    "    (col(\"Add to Playlist\").between(\n",
    "        bounds[\"Add to Playlist\"]['lower'], \n",
    "        bounds[\"Add to Playlist\"]['upper']\n",
    "    ))\n",
    ")"
   ]
  },
  {
   "cell_type": "markdown",
   "metadata": {},
   "source": [
    "#### Imbalanced dataset"
   ]
  },
  {
   "cell_type": "code",
   "execution_count": 32,
   "metadata": {},
   "outputs": [
    {
     "name": "stdout",
     "output_type": "stream",
     "text": [
      "+-----+-----+\n",
      "|label|count|\n",
      "+-----+-----+\n",
      "|    0|  255|\n",
      "|    1|   28|\n",
      "+-----+-----+\n",
      "\n"
     ]
    }
   ],
   "source": [
    "data.groupBy(\"label\").count().show()"
   ]
  },
  {
   "cell_type": "markdown",
   "metadata": {},
   "source": [
    "The training data we generated from the dataset is highly imbalanced. This might or might not be due to the small dataset we have. Neverthless let's apply oversampling to the dataset and simulate more `label=1` data. Note that there are other better techniques e.g SMOTE or using cost functions when modeling for this purpose. But here for simplicity we will use `sample` method of pyspark dataframe for oversampling."
   ]
  },
  {
   "cell_type": "code",
   "execution_count": 33,
   "metadata": {},
   "outputs": [
    {
     "name": "stdout",
     "output_type": "stream",
     "text": [
      "+-----+-----+\n",
      "|label|count|\n",
      "+-----+-----+\n",
      "|    0|  255|\n",
      "|    1|  252|\n",
      "+-----+-----+\n",
      "\n"
     ]
    }
   ],
   "source": [
    "data_0 = data.filter(\"label == 0\")\n",
    "data_1 = data.filter(\"label == 1\")\n",
    "f = data_0.count()/data_1.count()\n",
    "data_1_over = data_1.sample(\n",
    "    withReplacement=True, fraction=f, seed=42\n",
    ")\n",
    "data = data_0.union(data_1_over)\n",
    "data.groupBy(\"label\").count().show()"
   ]
  },
  {
   "cell_type": "code",
   "execution_count": 34,
   "metadata": {},
   "outputs": [],
   "source": [
    "# train test split\n",
    "split = data.randomSplit([0.8, 0.2], seed=42)\n",
    "train, test = split[0], split[1]"
   ]
  },
  {
   "cell_type": "markdown",
   "metadata": {},
   "source": [
    "### Modelling and Evaluation"
   ]
  },
  {
   "cell_type": "markdown",
   "metadata": {},
   "source": [
    "Our churn prediction is a binary classification problem. There are many machine learning models can be used. I will start with logisitic regression as a baseline model and then predict with Random Forest and Naive-Bayes classifiers."
   ]
  },
  {
   "cell_type": "code",
   "execution_count": 35,
   "metadata": {},
   "outputs": [
    {
     "name": "stdout",
     "output_type": "stream",
     "text": [
      "Logistic Regression\n",
      "accuracy: 0.7368421052631579\n",
      "precision: 0.7556696619597774\n",
      "recall: 0.736842105263158\n",
      "f1 score: 0.7362003278898943\n",
      "AUC: 0.7455277280858675\n",
      "\n",
      "Gradient Boosted Trees\n",
      "accuracy: 0.9578947368421052\n",
      "precision: 0.9609022556390978\n",
      "recall: 0.9578947368421054\n",
      "f1 score: 0.9576475062996245\n",
      "AUC: 0.9534883720930233\n",
      "\n",
      "Decision Tree\n",
      "accuracy: 0.8736842105263158\n",
      "precision: 0.8773422918999627\n",
      "recall: 0.8736842105263158\n",
      "f1 score: 0.8739649122807016\n",
      "AUC: 0.8765652951699464\n",
      "\n",
      "Naive Bayes\n",
      "accuracy: 0.6421052631578947\n",
      "precision: 0.6518998029833944\n",
      "recall: 0.6421052631578947\n",
      "f1 score: 0.6424225457260172\n",
      "AUC: 0.6469141323792487\n",
      "\n"
     ]
    }
   ],
   "source": [
    "# build pipeline\n",
    "# vectorize features\n",
    "assembler = VectorAssembler(\n",
    "    inputCols=feature_cols, outputCol=\"assembled\"\n",
    ")\n",
    "# standardize feature values\n",
    "scaler = StandardScaler(inputCol=\"assembled\", outputCol=\"scaled\")\n",
    "# select best features\n",
    "selector = UnivariateFeatureSelector(\n",
    "    featuresCol=\"scaled\",\n",
    "    outputCol=\"features\")\n",
    "selector.setFeatureType(\"continuous\").setLabelType(\"categorical\")\n",
    "# define the 3 algorithms\n",
    "gbt = GBTClassifier(maxIter=5, labelCol=\"label\", seed=42)\n",
    "lr =  LogisticRegression(maxIter=10, elasticNetParam=0)\n",
    "dt = DecisionTreeClassifier()\n",
    "nb = NaiveBayes()\n",
    "\n",
    "# define parameters to evaluate\n",
    "paramGrid_gbt = ParamGridBuilder() \\\n",
    "    .addGrid(selector.selectionMode, [\"numTopFeatures\", \"fpr\"])\\\n",
    "    .addGrid(gbt.maxDepth, [4, 5, 6]) \\\n",
    "    .build()\n",
    "\n",
    "paramGrid_lr = ParamGridBuilder() \\\n",
    "    .addGrid(selector.selectionMode, [\"numTopFeatures\", \"fpr\"])\\\n",
    "    .addGrid(lr.regParam, [0.1, 0.01]) \\\n",
    "    .build()\n",
    "\n",
    "paramGrid_dt = ParamGridBuilder() \\\n",
    "    .addGrid(selector.selectionMode, [\"numTopFeatures\", \"fpr\"])\\\n",
    "    .addGrid(dt.maxDepth, [3, 4, 5]) \\\n",
    "    .build()\n",
    "\n",
    "paramGrid_nb = ParamGridBuilder() \\\n",
    "    .addGrid(selector.selectionMode, [\"numTopFeatures\", \"fpr\"])\\\n",
    "    .addGrid(nb.smoothing, [1, 0.1, 0.01]) \\\n",
    "    .build()\n",
    "\n",
    "# loop over the 3 models\n",
    "model_names = [\n",
    "    \"Logistic Regression\",\n",
    "    \"Gradient Boosted Trees\",\n",
    "    \"Decision Tree\",\n",
    "    \"Naive Bayes\"\n",
    "]\n",
    "model_list = [lr, gbt, dt, nb]\n",
    "paramGrid_list = [\n",
    "    paramGrid_lr, paramGrid_gbt, paramGrid_dt, paramGrid_nb\n",
    "]\n",
    "for i in range(4):\n",
    "    pipeline = Pipeline(\n",
    "        stages=[assembler, scaler, selector, model_list[i]])\n",
    "    paramGrid = paramGrid_list[i]\n",
    "\n",
    "    # find best parameters with cross validation\n",
    "    crossval = CrossValidator(\n",
    "        estimator=pipeline,\n",
    "        estimatorParamMaps=paramGrid,\n",
    "        evaluator=BinaryClassificationEvaluator(),\n",
    "        numFolds=5) \n",
    "\n",
    "    cvModel = crossval.fit(train)\n",
    "    # Make predictions on test data\n",
    "    pred = cvModel.transform(test)\n",
    "\n",
    "    # Create evaluator\n",
    "    evaluator = MulticlassClassificationEvaluator(\n",
    "        labelCol=\"label\", predictionCol=\"prediction\"\n",
    "    )\n",
    "    pred_label = pred.select(\"label\", \"prediction\")\n",
    "    # Get metrics\n",
    "    acc = evaluator.evaluate(\n",
    "        pred_label, {evaluator.metricName: \"accuracy\"})\n",
    "    f1 = evaluator.evaluate(\n",
    "        pred_label, {evaluator.metricName: \"f1\"})\n",
    "    weightedPrecision = evaluator.evaluate(\n",
    "        pred_label, {evaluator.metricName: \"weightedPrecision\"}\n",
    "    )\n",
    "    weightedRecall = evaluator.evaluate(\n",
    "        pred_label, {evaluator.metricName: \"weightedRecall\"}\n",
    "    )\n",
    "    evaluator = BinaryClassificationEvaluator(\n",
    "        labelCol=\"label\", \n",
    "        rawPredictionCol=\"prediction\", \n",
    "        metricName='areaUnderROC'\n",
    "    )\n",
    "    auc = evaluator.evaluate(pred_label)\n",
    "    print(model_names[i])\n",
    "    print(f\"accuracy: {acc}\")\n",
    "    print(f\"precision: {weightedPrecision}\")\n",
    "    print(f\"recall: {weightedRecall}\")\n",
    "    print(f\"f1 score: {f1}\")\n",
    "    print(f\"AUC: {auc}\\n\")\n"
   ]
  },
  {
   "cell_type": "markdown",
   "metadata": {},
   "source": [
    "The gradient boosted tree model outperforms the other three across all the chosen 5 metrics (AUC ~92%). Let's save the model to a file."
   ]
  },
  {
   "cell_type": "code",
   "execution_count": 36,
   "metadata": {},
   "outputs": [],
   "source": [
    "# train gbt\n",
    "pipeline = Pipeline(\n",
    "    stages=[assembler, scaler, selector, gbt]\n",
    ")\n",
    "\n",
    "crossval = CrossValidator(\n",
    "    estimator=pipeline,\n",
    "    estimatorParamMaps=paramGrid_gbt,\n",
    "    evaluator=BinaryClassificationEvaluator(),\n",
    "    numFolds=5) \n",
    "\n",
    "cvModel = crossval.fit(data) # let's use all data to train the model"
   ]
  },
  {
   "cell_type": "code",
   "execution_count": null,
   "metadata": {},
   "outputs": [],
   "source": [
    "# save model\n",
    "cvModel.write().save(\"gbt\")"
   ]
  },
  {
   "cell_type": "markdown",
   "metadata": {},
   "source": [
    "## Conclusion"
   ]
  },
  {
   "cell_type": "markdown",
   "metadata": {},
   "source": [
    "### Summary\n",
    "\n",
    "In this notebook, we have \n",
    "\n",
    "- explored the dataset and gained an overview of different columns\n",
    "- performed analysis to find potential features for churn prediction\n",
    "- preprocessed dataset to generate training data\n",
    "- compared three machine learning algorithms and\n",
    "- evaluated the performances and tuned hypeparameters with cross validation\n",
    "- calculated evaluation metrics on the test dataset\n",
    "\n",
    "We have also performed various techniques e.g oversampling, outlier detection, standardization, feature selection etc.\n",
    "\n",
    "In the end, we found the gradient booted trees algorithm to be the best performing model with accuracy, precision, recall, f1 score and AUC, all of which is above 93%.\n"
   ]
  },
  {
   "cell_type": "markdown",
   "metadata": {},
   "source": [
    "### Improvement\n",
    "There are several areas I would like to emphasize for further improvements. \n",
    "\n",
    "- As mentioned earlier, there are better ways to handle imbalanced dataset. Our dataset is very small and we used oversampling, where a better approach could be SMOTE. With the full dataset, you might want to use downsampling or cluster the abundant class or a completely different approach on the model itself, e.g designing the cost function.\n",
    "- We could have done a better job in the feature engineering. When we have a bigger dataset, include more info as features, do correlation analysis, perform PCA, dig more into feature selectors etc. \n",
    "- More algorithms can be evaluated although the gradient boosted trees model looks promising.\n"
   ]
  }
 ],
 "metadata": {
  "kernelspec": {
   "display_name": "Python 3.8.9 64-bit",
   "language": "python",
   "name": "python3"
  },
  "language_info": {
   "codemirror_mode": {
    "name": "ipython",
    "version": 3
   },
   "file_extension": ".py",
   "mimetype": "text/x-python",
   "name": "python",
   "nbconvert_exporter": "python",
   "pygments_lexer": "ipython3",
   "version": "3.8.9"
  },
  "orig_nbformat": 4,
  "vscode": {
   "interpreter": {
    "hash": "aee8b7b246df8f9039afb4144a1f6fd8d2ca17a180786b69acc140d282b71a49"
   }
  }
 },
 "nbformat": 4,
 "nbformat_minor": 2
}
